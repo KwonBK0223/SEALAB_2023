{
 "cells": [
  {
   "cell_type": "code",
   "execution_count": 1,
   "metadata": {},
   "outputs": [],
   "source": [
    "import pandas as pd\n",
    "import netCDF4 as nc\n",
    "import math"
   ]
  },
  {
   "cell_type": "code",
   "execution_count": 2,
   "metadata": {},
   "outputs": [],
   "source": [
    "# NetCDF 파일 열기\n",
    "file_path = \"data/NOAA_drifter_2005.nc\"\n",
    "dataset = nc.Dataset(file_path, \"r\")"
   ]
  },
  {
   "cell_type": "code",
   "execution_count": 3,
   "metadata": {},
   "outputs": [],
   "source": [
    "lon = pd.DataFrame(dataset[\"lons\"][:])\n",
    "lat = pd.DataFrame(dataset[\"lats\"][:])\n",
    "time = pd.DataFrame(dataset[\"times\"][:])"
   ]
  },
  {
   "cell_type": "code",
   "execution_count": 4,
   "metadata": {},
   "outputs": [],
   "source": [
    "lon = lon.fillna(0)\n",
    "lat = lat.fillna(0)"
   ]
  },
  {
   "cell_type": "code",
   "execution_count": 5,
   "metadata": {},
   "outputs": [
    {
     "name": "stdout",
     "output_type": "stream",
     "text": [
      "0 395 136.63400268554688\n",
      "1 623 138.13999938964844\n",
      "2 74 132.50999450683594\n",
      "3 70 132.89100646972656\n",
      "4 424 139.60800170898438\n",
      "5 749 139.83999633789062\n",
      "6 474 141.28900146484375\n",
      "7 432 142.31300354003906\n",
      "8 673 140.20799255371094\n",
      "9 688 139.26400756835938\n",
      "10 306 139.99200439453125\n",
      "11 452 140.77200317382812\n",
      "12 137 128.93499755859375\n",
      "13 579 130.80099487304688\n",
      "14 282 131.197998046875\n",
      "15 1386 148.4010009765625\n",
      "16 211 128.39599609375\n",
      "17 470 139.76400756835938\n",
      "19 938 142.51699829101562\n",
      "20 493 140.53900146484375\n",
      "21 299 132.23899841308594\n",
      "22 272 133.28500366210938\n",
      "23 256 133.32000732421875\n",
      "24 182 133.2010040283203\n",
      "25 228 133.91600036621094\n",
      "26 994 131.47900390625\n",
      "27 765 139.80799865722656\n",
      "28 204 133.80499267578125\n",
      "29 182 132.85899353027344\n",
      "30 1165 147.41700744628906\n"
     ]
    }
   ],
   "source": [
    "for i in range(31):\n",
    "    for j in range(1412):\n",
    "        if lon.iloc[i][j] == 0:\n",
    "            print(i,j-1,lon.iloc[i][j-1])\n",
    "            break"
   ]
  },
  {
   "cell_type": "code",
   "execution_count": 6,
   "metadata": {},
   "outputs": [
    {
     "name": "stdout",
     "output_type": "stream",
     "text": [
      "0 395 36.80500030517578\n",
      "1 623 37.20199966430664\n",
      "2 74 35.277000427246094\n",
      "3 70 35.55699920654297\n",
      "4 424 38.784000396728516\n",
      "5 749 40.35200119018555\n",
      "6 474 37.50299835205078\n",
      "7 432 41.29600143432617\n",
      "8 673 42.89500045776367\n",
      "9 688 40.63199996948242\n",
      "10 306 40.18000030517578\n",
      "11 452 41.327999114990234\n",
      "12 137 37.805999755859375\n",
      "13 579 37.472999572753906\n",
      "14 282 37.5620002746582\n",
      "15 1386 45.4379997253418\n",
      "16 211 39.986000061035156\n",
      "17 470 42.30500030517578\n",
      "19 938 45.19300079345703\n",
      "20 493 41.292999267578125\n",
      "21 299 35.233001708984375\n",
      "22 272 35.595001220703125\n",
      "23 256 35.72100067138672\n",
      "24 182 36.33399963378906\n",
      "25 228 35.80400085449219\n",
      "26 994 42.85200119018555\n",
      "27 765 40.02799987792969\n",
      "28 204 35.52799987792969\n",
      "29 182 37.233001708984375\n",
      "30 1165 44.19599914550781\n"
     ]
    }
   ],
   "source": [
    "for i in range(31):\n",
    "    for j in range(1412):\n",
    "        if lat.iloc[i][j] == 0:\n",
    "            print(i,j-1,lat.iloc[i][j-1])\n",
    "            break"
   ]
  },
  {
   "cell_type": "code",
   "execution_count": 7,
   "metadata": {},
   "outputs": [
    {
     "name": "stdout",
     "output_type": "stream",
     "text": [
      "0 395 150.0\n",
      "1 623 207.25\n",
      "2 74 71.0\n",
      "3 70 70.0\n",
      "4 424 199.5\n",
      "5 749 280.75\n",
      "6 474 212.0\n",
      "7 432 231.5\n",
      "8 673 321.75\n",
      "9 688 325.5\n",
      "10 306 274.5\n",
      "11 452 351.25\n",
      "12 137 272.75\n",
      "13 579 384.25\n",
      "14 282 322.5\n",
      "15 1386 635.5\n",
      "16 211 341.75\n",
      "17 470 406.75\n",
      "19 938 548.0\n",
      "20 493 437.5\n",
      "21 299 389.0\n",
      "22 272 389.5\n",
      "23 256 385.5\n",
      "24 182 369.75\n",
      "25 228 381.25\n",
      "26 994 576.0\n",
      "27 765 538.75\n",
      "28 204 398.5\n",
      "29 182 393.0\n",
      "30 1165 639.0\n"
     ]
    }
   ],
   "source": [
    "for i in range(31):\n",
    "    for j in range(1412):\n",
    "        if time.iloc[i][j] < 0:\n",
    "            print(i,j-1,time.iloc[i][j-1])\n",
    "            break"
   ]
  },
  {
   "cell_type": "code",
   "execution_count": 8,
   "metadata": {},
   "outputs": [],
   "source": [
    "drifter = []\n",
    "t = []\n",
    "longitude = []\n",
    "latitude =[]"
   ]
  },
  {
   "cell_type": "code",
   "execution_count": 9,
   "metadata": {},
   "outputs": [],
   "source": [
    "for i in range(31):\n",
    "    for j in range(1412):\n",
    "        if lon.iloc[i][j] == 0:\n",
    "            break\n",
    "        else:\n",
    "            drifter.append(i)\n",
    "            t.append(time.iloc[i][j])\n",
    "            longitude.append(lon.iloc[i][j])\n",
    "            latitude.append(lat.iloc[i][j])"
   ]
  },
  {
   "cell_type": "code",
   "execution_count": 10,
   "metadata": {},
   "outputs": [
    {
     "name": "stdout",
     "output_type": "stream",
     "text": [
      "15845\n",
      "15845\n",
      "15845\n",
      "15845\n"
     ]
    }
   ],
   "source": [
    "print(len(drifter))\n",
    "print(len(t))\n",
    "print(len(longitude))\n",
    "print(len(latitude))"
   ]
  },
  {
   "cell_type": "code",
   "execution_count": 11,
   "metadata": {},
   "outputs": [
    {
     "data": {
      "text/html": [
       "<div>\n",
       "<style scoped>\n",
       "    .dataframe tbody tr th:only-of-type {\n",
       "        vertical-align: middle;\n",
       "    }\n",
       "\n",
       "    .dataframe tbody tr th {\n",
       "        vertical-align: top;\n",
       "    }\n",
       "\n",
       "    .dataframe thead th {\n",
       "        text-align: right;\n",
       "    }\n",
       "</style>\n",
       "<table border=\"1\" class=\"dataframe\">\n",
       "  <thead>\n",
       "    <tr style=\"text-align: right;\">\n",
       "      <th></th>\n",
       "      <th>drifter</th>\n",
       "      <th>time</th>\n",
       "      <th>longitude</th>\n",
       "      <th>latitude</th>\n",
       "    </tr>\n",
       "  </thead>\n",
       "  <tbody>\n",
       "    <tr>\n",
       "      <th>0</th>\n",
       "      <td>0</td>\n",
       "      <td>51.25</td>\n",
       "      <td>129.311005</td>\n",
       "      <td>34.950001</td>\n",
       "    </tr>\n",
       "    <tr>\n",
       "      <th>1</th>\n",
       "      <td>0</td>\n",
       "      <td>51.50</td>\n",
       "      <td>129.401993</td>\n",
       "      <td>35.020000</td>\n",
       "    </tr>\n",
       "    <tr>\n",
       "      <th>2</th>\n",
       "      <td>0</td>\n",
       "      <td>51.75</td>\n",
       "      <td>129.514008</td>\n",
       "      <td>35.061001</td>\n",
       "    </tr>\n",
       "    <tr>\n",
       "      <th>3</th>\n",
       "      <td>0</td>\n",
       "      <td>52.00</td>\n",
       "      <td>129.524002</td>\n",
       "      <td>35.032001</td>\n",
       "    </tr>\n",
       "    <tr>\n",
       "      <th>4</th>\n",
       "      <td>0</td>\n",
       "      <td>52.25</td>\n",
       "      <td>129.626007</td>\n",
       "      <td>35.083000</td>\n",
       "    </tr>\n",
       "    <tr>\n",
       "      <th>...</th>\n",
       "      <td>...</td>\n",
       "      <td>...</td>\n",
       "      <td>...</td>\n",
       "      <td>...</td>\n",
       "    </tr>\n",
       "    <tr>\n",
       "      <th>15840</th>\n",
       "      <td>30</td>\n",
       "      <td>638.00</td>\n",
       "      <td>147.348999</td>\n",
       "      <td>44.167999</td>\n",
       "    </tr>\n",
       "    <tr>\n",
       "      <th>15841</th>\n",
       "      <td>30</td>\n",
       "      <td>638.25</td>\n",
       "      <td>147.307007</td>\n",
       "      <td>44.138000</td>\n",
       "    </tr>\n",
       "    <tr>\n",
       "      <th>15842</th>\n",
       "      <td>30</td>\n",
       "      <td>638.50</td>\n",
       "      <td>147.250000</td>\n",
       "      <td>44.146999</td>\n",
       "    </tr>\n",
       "    <tr>\n",
       "      <th>15843</th>\n",
       "      <td>30</td>\n",
       "      <td>638.75</td>\n",
       "      <td>147.322998</td>\n",
       "      <td>44.201000</td>\n",
       "    </tr>\n",
       "    <tr>\n",
       "      <th>15844</th>\n",
       "      <td>30</td>\n",
       "      <td>639.00</td>\n",
       "      <td>147.417007</td>\n",
       "      <td>44.195999</td>\n",
       "    </tr>\n",
       "  </tbody>\n",
       "</table>\n",
       "<p>15845 rows × 4 columns</p>\n",
       "</div>"
      ],
      "text/plain": [
       "       drifter    time   longitude   latitude\n",
       "0            0   51.25  129.311005  34.950001\n",
       "1            0   51.50  129.401993  35.020000\n",
       "2            0   51.75  129.514008  35.061001\n",
       "3            0   52.00  129.524002  35.032001\n",
       "4            0   52.25  129.626007  35.083000\n",
       "...        ...     ...         ...        ...\n",
       "15840       30  638.00  147.348999  44.167999\n",
       "15841       30  638.25  147.307007  44.138000\n",
       "15842       30  638.50  147.250000  44.146999\n",
       "15843       30  638.75  147.322998  44.201000\n",
       "15844       30  639.00  147.417007  44.195999\n",
       "\n",
       "[15845 rows x 4 columns]"
      ]
     },
     "execution_count": 11,
     "metadata": {},
     "output_type": "execute_result"
    }
   ],
   "source": [
    "data = {\n",
    "    \"drifter\" : drifter,\n",
    "    \"time\" : t,\n",
    "    \"longitude\" : longitude,\n",
    "    \"latitude\" : latitude\n",
    "}\n",
    "columns = [\"drifter\",\"time\",\"longitude\",\"latitude\"]\n",
    "total = pd.DataFrame(data, columns = columns)\n",
    "total"
   ]
  },
  {
   "cell_type": "code",
   "execution_count": 12,
   "metadata": {},
   "outputs": [
    {
     "data": {
      "text/html": [
       "<div>\n",
       "<style scoped>\n",
       "    .dataframe tbody tr th:only-of-type {\n",
       "        vertical-align: middle;\n",
       "    }\n",
       "\n",
       "    .dataframe tbody tr th {\n",
       "        vertical-align: top;\n",
       "    }\n",
       "\n",
       "    .dataframe thead th {\n",
       "        text-align: right;\n",
       "    }\n",
       "</style>\n",
       "<table border=\"1\" class=\"dataframe\">\n",
       "  <thead>\n",
       "    <tr style=\"text-align: right;\">\n",
       "      <th></th>\n",
       "      <th>drifter</th>\n",
       "      <th>time</th>\n",
       "      <th>longitude</th>\n",
       "      <th>latitude</th>\n",
       "    </tr>\n",
       "  </thead>\n",
       "  <tbody>\n",
       "    <tr>\n",
       "      <th>count</th>\n",
       "      <td>15845.000000</td>\n",
       "      <td>15845.000000</td>\n",
       "      <td>15845.000000</td>\n",
       "      <td>15845.000000</td>\n",
       "    </tr>\n",
       "    <tr>\n",
       "      <th>mean</th>\n",
       "      <td>15.864689</td>\n",
       "      <td>341.417719</td>\n",
       "      <td>134.246013</td>\n",
       "      <td>38.413778</td>\n",
       "    </tr>\n",
       "    <tr>\n",
       "      <th>std</th>\n",
       "      <td>8.614415</td>\n",
       "      <td>140.713707</td>\n",
       "      <td>3.625214</td>\n",
       "      <td>2.461913</td>\n",
       "    </tr>\n",
       "    <tr>\n",
       "      <th>min</th>\n",
       "      <td>0.000000</td>\n",
       "      <td>51.250000</td>\n",
       "      <td>125.299004</td>\n",
       "      <td>33.140999</td>\n",
       "    </tr>\n",
       "    <tr>\n",
       "      <th>25%</th>\n",
       "      <td>9.000000</td>\n",
       "      <td>240.000000</td>\n",
       "      <td>131.235992</td>\n",
       "      <td>36.625000</td>\n",
       "    </tr>\n",
       "    <tr>\n",
       "      <th>50%</th>\n",
       "      <td>16.000000</td>\n",
       "      <td>347.750000</td>\n",
       "      <td>133.815002</td>\n",
       "      <td>37.912998</td>\n",
       "    </tr>\n",
       "    <tr>\n",
       "      <th>75%</th>\n",
       "      <td>23.000000</td>\n",
       "      <td>436.000000</td>\n",
       "      <td>136.531998</td>\n",
       "      <td>39.632000</td>\n",
       "    </tr>\n",
       "    <tr>\n",
       "      <th>max</th>\n",
       "      <td>30.000000</td>\n",
       "      <td>666.000000</td>\n",
       "      <td>148.697998</td>\n",
       "      <td>46.507000</td>\n",
       "    </tr>\n",
       "  </tbody>\n",
       "</table>\n",
       "</div>"
      ],
      "text/plain": [
       "            drifter          time     longitude      latitude\n",
       "count  15845.000000  15845.000000  15845.000000  15845.000000\n",
       "mean      15.864689    341.417719    134.246013     38.413778\n",
       "std        8.614415    140.713707      3.625214      2.461913\n",
       "min        0.000000     51.250000    125.299004     33.140999\n",
       "25%        9.000000    240.000000    131.235992     36.625000\n",
       "50%       16.000000    347.750000    133.815002     37.912998\n",
       "75%       23.000000    436.000000    136.531998     39.632000\n",
       "max       30.000000    666.000000    148.697998     46.507000"
      ]
     },
     "execution_count": 12,
     "metadata": {},
     "output_type": "execute_result"
    }
   ],
   "source": [
    "total.describe()"
   ]
  },
  {
   "cell_type": "code",
   "execution_count": 13,
   "metadata": {
    "scrolled": true
   },
   "outputs": [
    {
     "name": "stdout",
     "output_type": "stream",
     "text": [
      "<class 'pandas.core.frame.DataFrame'>\n",
      "RangeIndex: 15845 entries, 0 to 15844\n",
      "Data columns (total 4 columns):\n",
      " #   Column     Non-Null Count  Dtype  \n",
      "---  ------     --------------  -----  \n",
      " 0   drifter    15845 non-null  int64  \n",
      " 1   time       15845 non-null  float64\n",
      " 2   longitude  15845 non-null  float64\n",
      " 3   latitude   15845 non-null  float64\n",
      "dtypes: float64(3), int64(1)\n",
      "memory usage: 495.3 KB\n"
     ]
    }
   ],
   "source": [
    "total.info()"
   ]
  },
  {
   "cell_type": "code",
   "execution_count": 14,
   "metadata": {},
   "outputs": [],
   "source": [
    "total.to_csv(\"data/total.csv\",index = False)"
   ]
  }
 ],
 "metadata": {
  "kernelspec": {
   "display_name": "Python 3 (ipykernel)",
   "language": "python",
   "name": "python3"
  },
  "language_info": {
   "codemirror_mode": {
    "name": "ipython",
    "version": 3
   },
   "file_extension": ".py",
   "mimetype": "text/x-python",
   "name": "python",
   "nbconvert_exporter": "python",
   "pygments_lexer": "ipython3",
   "version": "3.11.5"
  },
  "toc": {
   "base_numbering": 1,
   "nav_menu": {},
   "number_sections": false,
   "sideBar": true,
   "skip_h1_title": false,
   "title_cell": "Table of Contents",
   "title_sidebar": "Contents",
   "toc_cell": false,
   "toc_position": {},
   "toc_section_display": true,
   "toc_window_display": false
  },
  "varInspector": {
   "cols": {
    "lenName": 16,
    "lenType": 16,
    "lenVar": 40
   },
   "kernels_config": {
    "python": {
     "delete_cmd_postfix": "",
     "delete_cmd_prefix": "del ",
     "library": "var_list.py",
     "varRefreshCmd": "print(var_dic_list())"
    },
    "r": {
     "delete_cmd_postfix": ") ",
     "delete_cmd_prefix": "rm(",
     "library": "var_list.r",
     "varRefreshCmd": "cat(var_dic_list()) "
    }
   },
   "types_to_exclude": [
    "module",
    "function",
    "builtin_function_or_method",
    "instance",
    "_Feature"
   ],
   "window_display": false
  }
 },
 "nbformat": 4,
 "nbformat_minor": 2
}
