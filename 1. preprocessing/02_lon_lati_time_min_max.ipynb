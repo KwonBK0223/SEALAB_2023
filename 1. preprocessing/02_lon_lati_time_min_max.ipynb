{
 "cells": [
  {
   "cell_type": "code",
   "execution_count": 1,
   "metadata": {},
   "outputs": [],
   "source": [
    "import pandas as pd\n",
    "import netCDF4 as nc\n",
    "import math"
   ]
  },
  {
   "cell_type": "code",
   "execution_count": 2,
   "metadata": {},
   "outputs": [],
   "source": [
    "# NetCDF 파일 열기\n",
    "file_path = \"data/NOAA_drifter_2005.nc\"\n",
    "dataset = nc.Dataset(file_path, \"r\")"
   ]
  },
  {
   "cell_type": "code",
   "execution_count": 3,
   "metadata": {},
   "outputs": [
    {
     "name": "stdout",
     "output_type": "stream",
     "text": [
      "dict_keys(['lons', 'lats', 'times', 'drifter', 'time'])\n"
     ]
    }
   ],
   "source": [
    "# 파일 내의 변수 이름 확인\n",
    "variables = dataset.variables.keys()\n",
    "print(variables)"
   ]
  },
  {
   "cell_type": "code",
   "execution_count": 4,
   "metadata": {},
   "outputs": [],
   "source": [
    "lon = pd.DataFrame(dataset[\"lons\"][:])\n",
    "lat = pd.DataFrame(dataset[\"lats\"][:])\n",
    "time = pd.DataFrame(dataset[\"times\"][:])"
   ]
  },
  {
   "cell_type": "code",
   "execution_count": 5,
   "metadata": {},
   "outputs": [
    {
     "data": {
      "text/plain": [
       "(129.31100463867188, 136.68800354003906)"
      ]
     },
     "execution_count": 5,
     "metadata": {},
     "output_type": "execute_result"
    }
   ],
   "source": [
    "lon_min_lst = []\n",
    "lon_max_lst = []\n",
    "for i in range(len(lon)):\n",
    "    k = lon.loc[0].tolist()\n",
    "    t = [x for x in k if not math.isnan(x)]\n",
    "    t.sort()\n",
    "    lon_min_lst.append(t[0])\n",
    "    lon_max_lst.append(t[-1])\n",
    "\n",
    "lon_min_lst.sort()\n",
    "lon_max_lst.sort()\n",
    "\n",
    "lon_min = lon_min_lst[0]\n",
    "lon_max = lon_max_lst[-1]\n",
    "\n",
    "lon_min, lon_max"
   ]
  },
  {
   "cell_type": "code",
   "execution_count": 6,
   "metadata": {},
   "outputs": [
    {
     "data": {
      "text/plain": [
       "(34.75, 36.90299987792969)"
      ]
     },
     "execution_count": 6,
     "metadata": {},
     "output_type": "execute_result"
    }
   ],
   "source": [
    "lat_min_lst = []\n",
    "lat_max_lst = []\n",
    "for i in range(len(lat)):\n",
    "    k = lat.loc[0].tolist()\n",
    "    t = [x for x in k if not math.isnan(x)]\n",
    "    t.sort()\n",
    "    lat_min_lst.append(t[0])\n",
    "    lat_max_lst.append(t[-1])\n",
    "\n",
    "lat_min_lst.sort()\n",
    "lat_max_lst.sort()\n",
    "\n",
    "lat_min = lat_min_lst[0]\n",
    "lat_max = lat_max_lst[-1]\n",
    "\n",
    "lat_min, lat_max"
   ]
  },
  {
   "cell_type": "code",
   "execution_count": 7,
   "metadata": {},
   "outputs": [
    {
     "data": {
      "text/plain": [
       "(51.25, 666.0)"
      ]
     },
     "execution_count": 7,
     "metadata": {},
     "output_type": "execute_result"
    }
   ],
   "source": [
    "positive_values = time[time > 0]  # 데이터프레임에서 양수만 선택\n",
    "time_min = positive_values.min().min()  # 최소값 계산\n",
    "time_max = positive_values.max().max()  # 최대값 계산\n",
    "\n",
    "time_min, time_max"
   ]
  },
  {
   "cell_type": "code",
   "execution_count": 8,
   "metadata": {},
   "outputs": [
    {
     "name": "stdout",
     "output_type": "stream",
     "text": [
      "위도 min, max : 129.31100463867188,136.68800354003906\n",
      "경도 min, max : 34.75,36.90299987792969\n",
      "시간 min, max : 51.25,666.0\n"
     ]
    }
   ],
   "source": [
    "print(f'위도 min, max : {lon_min},{lon_max}')\n",
    "print(f'경도 min, max : {lat_min},{lat_max}')\n",
    "print(f'시간 min, max : {time_min},{time_max}')"
   ]
  },
  {
   "cell_type": "code",
   "execution_count": null,
   "metadata": {},
   "outputs": [],
   "source": []
  }
 ],
 "metadata": {
  "kernelspec": {
   "display_name": "Python 3 (ipykernel)",
   "language": "python",
   "name": "python3"
  },
  "language_info": {
   "codemirror_mode": {
    "name": "ipython",
    "version": 3
   },
   "file_extension": ".py",
   "mimetype": "text/x-python",
   "name": "python",
   "nbconvert_exporter": "python",
   "pygments_lexer": "ipython3",
   "version": "3.11.5"
  },
  "toc": {
   "base_numbering": 1,
   "nav_menu": {},
   "number_sections": true,
   "sideBar": true,
   "skip_h1_title": false,
   "title_cell": "Table of Contents",
   "title_sidebar": "Contents",
   "toc_cell": false,
   "toc_position": {},
   "toc_section_display": true,
   "toc_window_display": false
  },
  "varInspector": {
   "cols": {
    "lenName": 16,
    "lenType": 16,
    "lenVar": 40
   },
   "kernels_config": {
    "python": {
     "delete_cmd_postfix": "",
     "delete_cmd_prefix": "del ",
     "library": "var_list.py",
     "varRefreshCmd": "print(var_dic_list())"
    },
    "r": {
     "delete_cmd_postfix": ") ",
     "delete_cmd_prefix": "rm(",
     "library": "var_list.r",
     "varRefreshCmd": "cat(var_dic_list()) "
    }
   },
   "types_to_exclude": [
    "module",
    "function",
    "builtin_function_or_method",
    "instance",
    "_Feature"
   ],
   "window_display": false
  }
 },
 "nbformat": 4,
 "nbformat_minor": 2
}
